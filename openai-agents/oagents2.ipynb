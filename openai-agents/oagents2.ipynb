{
 "cells": [
  {
   "cell_type": "code",
   "execution_count": 1,
   "id": "d909cdc9",
   "metadata": {},
   "outputs": [],
   "source": [
    "from dotenv import load_dotenv\n",
    "from agents import Agent, Runner, trace, function_tool\n",
    "from openai.types.responses import ResponseTextDeltaEvent\n",
    "import sendgrid\n",
    "import os\n",
    "from sendgrid import To, Mail, Email, Content\n",
    "import asyncio"
   ]
  },
  {
   "cell_type": "code",
   "execution_count": 2,
   "id": "01cdf939",
   "metadata": {},
   "outputs": [
    {
     "data": {
      "text/plain": [
       "True"
      ]
     },
     "execution_count": 2,
     "metadata": {},
     "output_type": "execute_result"
    }
   ],
   "source": [
    "load_dotenv(override=True)"
   ]
  },
  {
   "cell_type": "code",
   "execution_count": 5,
   "id": "46a60d4d",
   "metadata": {},
   "outputs": [
    {
     "name": "stdout",
     "output_type": "stream",
     "text": [
      "202\n"
     ]
    }
   ],
   "source": [
    "def send_test_email():\n",
    "    sg = sendgrid.SendGridAPIClient(api_key=os.getenv(\"SENDGRID_API_KEY\"))\n",
    "    from_email = Email(\"vimalpillai1234@gmail.com\")\n",
    "    to_email = To(\"vimalpillai47@gmail.com\")\n",
    "    content = Content(\"text/plain\",\"This is a important test email\")\n",
    "    mail = Mail(from_email,to_email,\"Test email\",content).get()\n",
    "    response = sg.client.mail.send.post(request_body=mail)\n",
    "    print(response.status_code)\n",
    "\n",
    "send_test_email()"
   ]
  },
  {
   "cell_type": "code",
   "execution_count": 6,
   "id": "f7967ddd",
   "metadata": {},
   "outputs": [],
   "source": [
    "instructions1 = \"\"\"You are a sales agent working for ComplAI, \n",
    "a company that provides a SaaS tool for ensuring SOC2 compliance and preparing for audits, powered by AI. \n",
    "You write professional, serious cold emails.\"\"\"\n",
    "\n",
    "instructions2 = \"\"\"You are a humorous, engaging sales agent working for ComplAI, \\\n",
    "a company that provides a SaaS tool for ensuring SOC2 compliance and preparing for audits, powered by AI. \\\n",
    "You write witty, engaging cold emails that are likely to get a response.\"\"\"\n",
    "\n",
    "instructions3 = \"\"\"You are a busy sales agent working for ComplAI, \\\n",
    "a company that provides a SaaS tool for ensuring SOC2 compliance and preparing for audits, powered by AI. \\\n",
    "You write concise, to the point cold emails.\"\"\""
   ]
  },
  {
   "cell_type": "code",
   "execution_count": 8,
   "id": "61f9a228",
   "metadata": {},
   "outputs": [],
   "source": [
    "sales_agent1 = Agent(\n",
    "    name=\"Professional Sales Agent\",\n",
    "    instructions=instructions1,\n",
    "    model=\"gpt-4.1-mini\"\n",
    ")\n",
    "\n",
    "sales_agent2 = Agent(\n",
    "    name=\"Engaging Sales Agent\",\n",
    "    instructions=instructions2,\n",
    "    model=\"gpt-4.1-mini\"\n",
    ")\n",
    "\n",
    "sales_agent3 = Agent(\n",
    "    name=\"Busy Sales Agent\",\n",
    "    instructions=instructions3,\n",
    "    model=\"gpt-4.1-mini\"\n",
    ")"
   ]
  },
  {
   "cell_type": "code",
   "execution_count": 10,
   "id": "42d03b20",
   "metadata": {},
   "outputs": [
    {
     "name": "stdout",
     "output_type": "stream",
     "text": [
      "Subject: Simplify Your SOC 2 Compliance with AI-Powered Automation\n",
      "\n",
      "Hi [First Name],\n",
      "\n",
      "Ensuring SOC 2 compliance can be a complex and time-consuming process—especially when preparing for audits. At ComplAI, we’ve developed an AI-powered SaaS tool designed to streamline compliance management and audit readiness, saving your team valuable time and reducing risk.\n",
      "\n",
      "Our platform helps you:  \n",
      "- Automate evidence collection and documentation  \n",
      "- Continuously monitor compliance controls  \n",
      "- Generate audit-ready reports effortlessly\n",
      "\n",
      "If improving your SOC 2 compliance process is a priority this quarter, I’d love to schedule a brief call to discuss how ComplAI can support your team.\n",
      "\n",
      "Would you be open to a 15-minute conversation next week?\n",
      "\n",
      "Best regards,  \n",
      "[Your Full Name]  \n",
      "Sales Representative, ComplAI  \n",
      "[Your Email] | [Your Phone Number]  \n",
      "[ComplAI Website]"
     ]
    }
   ],
   "source": [
    "result = Runner.run_streamed(sales_agent1, \"Write a cold sales email\")\n",
    "async for event in result.stream_events():\n",
    "    if event.type == \"raw_response_event\" and isinstance(event.data, ResponseTextDeltaEvent):\n",
    "        print(event.data.delta,end=\"\",flush=True)"
   ]
  },
  {
   "cell_type": "code",
   "execution_count": null,
   "id": "464a7ab5",
   "metadata": {},
   "outputs": [],
   "source": [
    "message = \"Write a cold sales email\"\n",
    "with trace"
   ]
  },
  {
   "cell_type": "code",
   "execution_count": null,
   "id": "85edf4cf",
   "metadata": {},
   "outputs": [],
   "source": []
  }
 ],
 "metadata": {
  "kernelspec": {
   "display_name": "llm-agents",
   "language": "python",
   "name": "python3"
  },
  "language_info": {
   "codemirror_mode": {
    "name": "ipython",
    "version": 3
   },
   "file_extension": ".py",
   "mimetype": "text/x-python",
   "name": "python",
   "nbconvert_exporter": "python",
   "pygments_lexer": "ipython3",
   "version": "3.12.10"
  }
 },
 "nbformat": 4,
 "nbformat_minor": 5
}
