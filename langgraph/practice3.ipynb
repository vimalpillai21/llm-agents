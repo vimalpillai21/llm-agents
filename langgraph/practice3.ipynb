{
 "cells": [
  {
   "cell_type": "code",
   "execution_count": 1,
   "id": "34768570",
   "metadata": {},
   "outputs": [],
   "source": [
    "from typing import Annotated\n",
    "from typing_extensions import TypedDict\n",
    "from dotenv import load_dotenv\n",
    "import gradio as gr\n",
    "from IPython.display import display, Image\n",
    "import requests\n",
    "import os\n",
    "from langgraph.graph import StateGraph, START\n",
    "from langgraph.graph.message import add_messages\n",
    "from langgraph.prebuilt import ToolNode, tools_condition\n",
    "from langchain.agents import Tool\n",
    "from langchain_openai import ChatOpenAI\n",
    "from langgraph.checkpoint.memory import MemorySaver"
   ]
  },
  {
   "cell_type": "code",
   "execution_count": 2,
   "id": "beceb1ab",
   "metadata": {},
   "outputs": [
    {
     "data": {
      "text/plain": [
       "True"
      ]
     },
     "execution_count": 2,
     "metadata": {},
     "output_type": "execute_result"
    }
   ],
   "source": [
    "load_dotenv(override=True)"
   ]
  },
  {
   "cell_type": "code",
   "execution_count": 3,
   "id": "6267d89d",
   "metadata": {},
   "outputs": [],
   "source": [
    "class State(TypedDict):\n",
    "    messages: Annotated[list, add_messages]"
   ]
  },
  {
   "cell_type": "code",
   "execution_count": 4,
   "id": "f4b9ce15",
   "metadata": {},
   "outputs": [],
   "source": [
    "graph_builder = StateGraph(State)"
   ]
  },
  {
   "cell_type": "code",
   "execution_count": 5,
   "id": "de49113d",
   "metadata": {},
   "outputs": [],
   "source": [
    "pushover_token = os.getenv(\"PUSHOVER_TOKEN\")\n",
    "pushover_user = os.getenv(\"PUSHOVER_USER\")\n",
    "pushover_url = \"https://api.pushover.net/1/messages.json\"\n",
    "\n",
    "def push(text: str):\n",
    "    \"\"\"Send a push notification to the user\"\"\"\n",
    "    requests.post(pushover_url, data = {\"token\": pushover_token, \"user\": pushover_user, \"message\": text})\n"
   ]
  },
  {
   "cell_type": "code",
   "execution_count": 6,
   "id": "99dd2260",
   "metadata": {},
   "outputs": [],
   "source": [
    "tool_push = Tool(\n",
    "    name=\"send_push_notification\",\n",
    "    func=push,\n",
    "    description=\"useful for when you want to send a push notification\"\n",
    ")"
   ]
  },
  {
   "cell_type": "code",
   "execution_count": 7,
   "id": "459307e2",
   "metadata": {},
   "outputs": [],
   "source": [
    "# !node --version"
   ]
  },
  {
   "cell_type": "code",
   "execution_count": 8,
   "id": "e9f1979a",
   "metadata": {},
   "outputs": [],
   "source": [
    "# !uv run playwright install"
   ]
  },
  {
   "cell_type": "code",
   "execution_count": 9,
   "id": "66b78659",
   "metadata": {},
   "outputs": [],
   "source": [
    "import nest_asyncio\n",
    "nest_asyncio.apply()"
   ]
  },
  {
   "cell_type": "code",
   "execution_count": 10,
   "id": "a12cd135",
   "metadata": {},
   "outputs": [],
   "source": [
    "from langchain_community.agent_toolkits import PlayWrightBrowserToolkit\n",
    "from langchain_community.tools.playwright.utils import create_async_playwright_browser\n",
    "\n",
    "async_browser = create_async_playwright_browser(headless=False)\n",
    "toolkit = PlayWrightBrowserToolkit.from_browser(async_browser=async_browser)\n",
    "tools = toolkit.get_tools()"
   ]
  },
  {
   "cell_type": "code",
   "execution_count": 13,
   "id": "223e3e45",
   "metadata": {},
   "outputs": [
    {
     "name": "stdout",
     "output_type": "stream",
     "text": [
      "click_element=async_browser=<Browser type=<BrowserType name=chromium executable_path=C:\\Users\\Vimal Pillai\\AppData\\Local\\ms-playwright\\chromium-1181\\chrome-win\\chrome.exe> version=139.0.7258.5>\n",
      "navigate_browser=async_browser=<Browser type=<BrowserType name=chromium executable_path=C:\\Users\\Vimal Pillai\\AppData\\Local\\ms-playwright\\chromium-1181\\chrome-win\\chrome.exe> version=139.0.7258.5>\n",
      "previous_webpage=async_browser=<Browser type=<BrowserType name=chromium executable_path=C:\\Users\\Vimal Pillai\\AppData\\Local\\ms-playwright\\chromium-1181\\chrome-win\\chrome.exe> version=139.0.7258.5>\n",
      "extract_text=async_browser=<Browser type=<BrowserType name=chromium executable_path=C:\\Users\\Vimal Pillai\\AppData\\Local\\ms-playwright\\chromium-1181\\chrome-win\\chrome.exe> version=139.0.7258.5>\n",
      "extract_hyperlinks=async_browser=<Browser type=<BrowserType name=chromium executable_path=C:\\Users\\Vimal Pillai\\AppData\\Local\\ms-playwright\\chromium-1181\\chrome-win\\chrome.exe> version=139.0.7258.5>\n",
      "get_elements=async_browser=<Browser type=<BrowserType name=chromium executable_path=C:\\Users\\Vimal Pillai\\AppData\\Local\\ms-playwright\\chromium-1181\\chrome-win\\chrome.exe> version=139.0.7258.5>\n",
      "current_webpage=async_browser=<Browser type=<BrowserType name=chromium executable_path=C:\\Users\\Vimal Pillai\\AppData\\Local\\ms-playwright\\chromium-1181\\chrome-win\\chrome.exe> version=139.0.7258.5>\n"
     ]
    }
   ],
   "source": [
    "for tool in tools:\n",
    "    print(f\"{tool.name}={tool}\")"
   ]
  },
  {
   "cell_type": "code",
   "execution_count": 14,
   "id": "ba065114",
   "metadata": {},
   "outputs": [],
   "source": [
    "tool_dict = {tool.name: tool for tool in tools}\n",
    "navigate_tool = tool_dict.get(\"navigate_browser\")\n",
    "extract_text_tool = tool_dict.get(\"extract_text\")"
   ]
  },
  {
   "cell_type": "code",
   "execution_count": 15,
   "id": "f23b9234",
   "metadata": {},
   "outputs": [],
   "source": [
    "await navigate_tool.arun({\"url\": \"https://www.coolermaster.com/en-in/products/masterbox-td500/\"})\n",
    "text = await extract_text_tool.arun({})"
   ]
  },
  {
   "cell_type": "code",
   "execution_count": 16,
   "id": "75c62c6c",
   "metadata": {},
   "outputs": [
    {
     "name": "stdout",
     "output_type": "stream",
     "text": [
      "This page doesn’t exist Products Products Products Cooling Cooling\n",
      "Cooling Air Cooling Liquid Cooling Case Fans Thermal Paste Laptop\n",
      "Cooling Standard Cooler Phone Cooler view all PC Cases PC Cases PC\n",
      "Cases Full Tower Mid Tower Mini Tower Mini ITX PC Case Accessories\n",
      "view all Power Supplies Power Supplies Power Supplies X Series V\n",
      "Series V SFX Series GX Series MWE Series Elite Series view all\n",
      "Accessories Accessories Accessories Monitors Keyboard Mice Audio Mouse\n",
      "pads Controllers view all Furniture Furniture Furniture Chairs Desk\n",
      "Accessories view all Systems Systems Systems view all MasterHub\n",
      "MasterHub MasterHub view all MAX MAX MAX ATX Mini ITX view all\n",
      "Immersive Experience Immersive Experience Immersive Experience view\n",
      "all Cooling 360 DEGREES OF COOL The next generation AIO liquid cooling\n",
      "is here with the MasterLiquid 360 Atmos. Discover PC Cases CREATED\n",
      "ONLY FOR THE BEST HAF 700 EVO unveils a new era of thermal efficiency\n",
      "through unique features designed to transcend the standards of\n",
      "contemporary cooling solutions. Discover Power Supplies PRECISE SILENT\n",
      "POWER The X Silent MAX Platinum, engineered with an acoustically\n",
      "optimized Mobius Fan, top-tier industrial IC components and our\n",
      "exclusive aluminum heatsink dissipation technology. Discover\n",
      "Accessories THE ULTIMATE IN CUSTOMIZATION AND COMFORT Discover a realm\n",
      "where each keystroke feels just right. The MK770 Hybrid Wireless\n",
      "Keyboard is more than tech — it's a genuine extension of you. Discover\n",
      "Furniture RELAXATION AT YOUR COMMAND Say goodbye to the perils of\n",
      "prolonged sitting! Discover Systems COOL. COMPACT. QUIET. Cooler\n",
      "Master First Desktop PC with Full Redesigned Liquid Cooling Discover\n",
      "MasterHub MasterHUB Unlock boundless creativity with MasterHUB, a\n",
      "revolutionary modular control system tailored for streamers, creators,\n",
      "and PC enthusiasts. It offers precise control, seamless customization,\n",
      "and endless possibilities. Discover MAX MAX PERFORMANCE, MINIMALIST\n",
      "DESIGN Discover the Ncore 100 MAX by Cooler Master: a compact, high-\n",
      "performance addition to the MAX series. Discover Immersive Experience\n",
      "Feel the Rhythm, Master Your Art The Throne X, a multi-purpose\n",
      "immersive stool designed for musicians, provides a tactile experience\n",
      "that enables one to physically feel the tempo. Discover Builder's Zone\n",
      "Builder's Zone PSU Calculator CPU Compatibility Guide & Resources\n",
      "Builder's Zone A BRIEF OVERVIEW: AI, ML, DL, AND THE GROWING RELEVANCE\n",
      "OF AI PC Leveraging Cooler Master's expertise in AI Server cooling\n",
      "solutions and industry insights, we aim to shed light on the imminent\n",
      "shift towards AI-driven personal computing. Discover Software Software\n",
      "Masterplus+ Masterctrl Software MASTERCTRL MasterCTRL revolutionizes\n",
      "the way you interact with your devices, providing a user-friendly\n",
      "experience like never before. Discover Support Support Product\n",
      "registration Tech support Warranty Warranty check Faq Contact us\n",
      "Support Special Announcement Your data is our top priority. Stay\n",
      "Informed This page doesn’t exist We couldn't find what you were\n",
      "looking for or the page no longer exists Homepage Be the first to know\n",
      "Join our mailing list for special offers, new products and contests.\n",
      "Privacy policy Subscibe This website is for consumer products of\n",
      "Cooler Master Technology Inc. only. For OEM/ODM products please go to\n",
      "Cooler Master Co. ltd. About Corporate Social Media News Events\n",
      "Support Product Registration Tech Spec Warranty Warranty check Faq\n",
      "Contact us Contact Our Team CAREER RESOURCE CENTER © Cooler Master\n",
      "Technology Inc. Privacy policy Terms of use Cookie policy General\n",
      "terms and conditions Conformity of products India\n"
     ]
    }
   ],
   "source": [
    "import textwrap\n",
    "print(textwrap.fill(text))"
   ]
  },
  {
   "cell_type": "code",
   "execution_count": 18,
   "id": "0abf1674",
   "metadata": {},
   "outputs": [],
   "source": [
    "all_tools = tools + [tool_push]"
   ]
  },
  {
   "cell_type": "code",
   "execution_count": 19,
   "id": "33bff85b",
   "metadata": {},
   "outputs": [],
   "source": [
    "llm = ChatOpenAI(model=\"gpt-4.1-mini\")\n",
    "llm_with_tools = llm.bind_tools(all_tools)\n",
    "\n",
    "def chatbot(old_state: State):\n",
    "    return {\"messages\": [llm_with_tools.invoke(old_state[\"messages\"])]}"
   ]
  },
  {
   "cell_type": "code",
   "execution_count": 21,
   "id": "d03cbadf",
   "metadata": {},
   "outputs": [
    {
     "data": {
      "image/png": "[encoded data removed]",
      "text/plain": [
       "<IPython.core.display.Image object>"
      ]
     },
     "metadata": {},
     "output_type": "display_data"
    }
   ],
   "source": [
    "graph_builder = StateGraph(State)\n",
    "graph_builder.add_node(\"chatbot\",chatbot)\n",
    "graph_builder.add_node(\"tools\",ToolNode(tools=all_tools))\n",
    "graph_builder.add_conditional_edges(\"chatbot\", tools_condition, \"tools\")\n",
    "graph_builder.add_edge(\"tools\",\"chatbot\")\n",
    "graph_builder.add_edge(START, \"chatbot\")\n",
    "\n",
    "memory = MemorySaver()\n",
    "graph = graph_builder.compile(checkpointer=memory)\n",
    "display(Image(graph.get_graph().draw_mermaid_png()))"
   ]
  },
  {
   "cell_type": "code",
   "execution_count": 22,
   "id": "e430e18e",
   "metadata": {},
   "outputs": [],
   "source": [
    "config = {\"configurable\": {\"thread_id\": \"10\"}}\n",
    "\n",
    "async def chat(user_input: str, history):\n",
    "    result = await graph.ainvoke({\"messages\": [{\"role\":\"user\",\"content\":user_input}]},config=config)\n",
    "    return result[\"messages\"][-1].content"
   ]
  },
  {
   "cell_type": "code",
   "execution_count": 23,
   "id": "d68429e8",
   "metadata": {},
   "outputs": [
    {
     "name": "stdout",
     "output_type": "stream",
     "text": [
      "* Running on local URL:  http://127.0.0.1:7865\n",
      "* To create a public link, set `share=True` in `launch()`.\n"
     ]
    },
    {
     "data": {
      "text/html": [
       "<div><iframe src=\"http://127.0.0.1:7865/\" width=\"100%\" height=\"500\" allow=\"autoplay; camera; microphone; clipboard-read; clipboard-write;\" frameborder=\"0\" allowfullscreen></iframe></div>"
      ],
      "text/plain": [
       "<IPython.core.display.HTML object>"
      ]
     },
     "metadata": {},
     "output_type": "display_data"
    },
    {
     "data": {
      "text/plain": []
     },
     "execution_count": 23,
     "metadata": {},
     "output_type": "execute_result"
    }
   ],
   "source": [
    "gr.ChatInterface(chat, type=\"messages\").launch()"
   ]
  },
  {
   "cell_type": "code",
   "execution_count": null,
   "id": "86c17ba5",
   "metadata": {},
   "outputs": [],
   "source": []
  },
  {
   "cell_type": "code",
   "execution_count": null,
   "id": "57f2d867",
   "metadata": {},
   "outputs": [],
   "source": []
  },
  {
   "cell_type": "code",
   "execution_count": null,
   "id": "2a405c83",
   "metadata": {},
   "outputs": [],
   "source": []
  },
  {
   "cell_type": "code",
   "execution_count": null,
   "id": "c6ea6c33",
   "metadata": {},
   "outputs": [],
   "source": []
  }
 ],
 "metadata": {
  "kernelspec": {
   "display_name": "llm-agents",
   "language": "python",
   "name": "python3"
  },
  "language_info": {
   "codemirror_mode": {
    "name": "ipython",
    "version": 3
   },
   "file_extension": ".py",
   "mimetype": "text/x-python",
   "name": "python",
   "nbconvert_exporter": "python",
   "pygments_lexer": "ipython3",
   "version": "3.12.10"
  }
 },
 "nbformat": 4,
 "nbformat_minor": 5
}
